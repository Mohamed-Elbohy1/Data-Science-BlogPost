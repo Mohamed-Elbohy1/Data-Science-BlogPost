{
 "cells": [
  {
   "cell_type": "markdown",
   "metadata": {},
   "source": [
    "# Objectives :"
   ]
  },
  {
   "cell_type": "markdown",
   "metadata": {},
   "source": [
    "1-is there a direct correlation between Salary and formal Education?\n",
    "\n",
    "2- is there a direct correlation between Earnings and employment status ( full time / part time)?\n",
    "\n",
    "3- relation between Salary and years of experience\n",
    "\n",
    "4- Upgrade your skills to Earn more "
   ]
  },
  {
   "cell_type": "code",
   "execution_count": 19,
   "metadata": {},
   "outputs": [
    {
     "data": {
      "text/plain": [
       "(51392, 154)"
      ]
     },
     "execution_count": 19,
     "metadata": {},
     "output_type": "execute_result"
    }
   ],
   "source": [
    "# Importing Libraries That we may need some or all of them\n",
    "import pandas as pd\n",
    "import matplotlib.pyplot as plt\n",
    "%matplotlib inline\n",
    "# Importing Dataset \n",
    "df = pd.read_csv('survey_results_public.csv')\n",
    "schema = pd.read_csv('survey_results_schema.csv')\n",
    "\n",
    "# Creating copies of original dataset\n",
    "question_1 = df.copy(deep=True)\n",
    "question_2 = df.copy(deep=True)\n",
    "question_3 = df.copy(deep=True)\n",
    "question_4 = df.copy(deep=True)\n",
    "question_5 = df.copy(deep=True)\n",
    "df.shape"
   ]
  },
  {
   "cell_type": "code",
   "execution_count": 20,
   "metadata": {},
   "outputs": [],
   "source": [
    "# Function that returns column from survey schema \n",
    "def get_description(column_name, schema=schema):\n",
    "    '''\n",
    "    SUMMARY: \n",
    "            Returns the description of a column\n",
    "    INPUT:\n",
    "            schema - pandas dataframe with the schema of the developers survey\n",
    "            column_name - string - the name of the column you would like to know about\n",
    "    OUTPUT: \n",
    "            desc - string - the description of the column\n",
    "    '''\n",
    "    desc = list(schema[schema['Column'] == column_name]['Question'])[0]\n",
    "    return desc"
   ]
  },
  {
   "cell_type": "code",
   "execution_count": 21,
   "metadata": {},
   "outputs": [],
   "source": [
    "# Function to group with it\n",
    "def grouping_function(data, column_name):\n",
    "    \"\"\" \n",
    "    SUMMARY: \n",
    "            Returns a grouped dataframe\n",
    "    \n",
    "    INPUT: \n",
    "            data (object): Dataframe\n",
    "            column_name (char): Column which is to be grouped by\n",
    "  \n",
    "    Returns: \n",
    "            GroupBy object with mean\n",
    "    \"\"\"\n",
    "    \n",
    "    grouped_df = data.groupby([column_name]).mean().reset_index()\n",
    "    return grouped_df"
   ]
  },
  {
   "cell_type": "markdown",
   "metadata": {},
   "source": [
    "# 1-Education versus Salary Correlation "
   ]
  },
  {
   "cell_type": "markdown",
   "metadata": {},
   "source": [
    "we need to get a relation between Educational level and Salary in this case most relevant colomns are 'Formal Education'and 'Salary'"
   ]
  },
  {
   "cell_type": "code",
   "execution_count": 5,
   "metadata": {},
   "outputs": [
    {
     "name": "stdout",
     "output_type": "stream",
     "text": [
      "Which of the following best describes the highest level of formal education that you've completed?\n",
      "What is your current annual base salary, before taxes, and excluding bonuses, grants, or other compensation?\n"
     ]
    }
   ],
   "source": [
    "# getting description of used colomns for better Data understanding\n",
    "print(get_description('FormalEducation'))\n",
    "print(get_description('Salary'))"
   ]
  },
  {
   "cell_type": "code",
   "execution_count": 15,
   "metadata": {},
   "outputs": [],
   "source": [
    "# Grouping our Data and placing it in a new data set \n",
    "S_1 = grouping_function(question_1, 'FormalEducation')\n",
    "R_1 = S_1[['FormalEducation', 'Salary']]"
   ]
  },
  {
   "cell_type": "code",
   "execution_count": 12,
   "metadata": {},
   "outputs": [
    {
     "data": {
      "text/html": [
       "<div>\n",
       "<style scoped>\n",
       "    .dataframe tbody tr th:only-of-type {\n",
       "        vertical-align: middle;\n",
       "    }\n",
       "\n",
       "    .dataframe tbody tr th {\n",
       "        vertical-align: top;\n",
       "    }\n",
       "\n",
       "    .dataframe thead th {\n",
       "        text-align: right;\n",
       "    }\n",
       "</style>\n",
       "<table border=\"1\" class=\"dataframe\">\n",
       "  <thead>\n",
       "    <tr style=\"text-align: right;\">\n",
       "      <th></th>\n",
       "      <th>FormalEducation</th>\n",
       "      <th>Salary</th>\n",
       "    </tr>\n",
       "  </thead>\n",
       "  <tbody>\n",
       "    <tr>\n",
       "      <th>0</th>\n",
       "      <td>Bachelor's degree</td>\n",
       "      <td>56914.358553</td>\n",
       "    </tr>\n",
       "    <tr>\n",
       "      <th>1</th>\n",
       "      <td>Doctoral degree</td>\n",
       "      <td>78527.933053</td>\n",
       "    </tr>\n",
       "    <tr>\n",
       "      <th>2</th>\n",
       "      <td>I never completed any formal education</td>\n",
       "      <td>44430.660621</td>\n",
       "    </tr>\n",
       "    <tr>\n",
       "      <th>3</th>\n",
       "      <td>I prefer not to answer</td>\n",
       "      <td>38284.836141</td>\n",
       "    </tr>\n",
       "    <tr>\n",
       "      <th>4</th>\n",
       "      <td>Master's degree</td>\n",
       "      <td>58250.838766</td>\n",
       "    </tr>\n",
       "    <tr>\n",
       "      <th>5</th>\n",
       "      <td>Primary/elementary school</td>\n",
       "      <td>62677.337358</td>\n",
       "    </tr>\n",
       "    <tr>\n",
       "      <th>6</th>\n",
       "      <td>Professional degree</td>\n",
       "      <td>39503.658864</td>\n",
       "    </tr>\n",
       "    <tr>\n",
       "      <th>7</th>\n",
       "      <td>Secondary school</td>\n",
       "      <td>40395.148419</td>\n",
       "    </tr>\n",
       "    <tr>\n",
       "      <th>8</th>\n",
       "      <td>Some college/university study without earning ...</td>\n",
       "      <td>55912.810459</td>\n",
       "    </tr>\n",
       "  </tbody>\n",
       "</table>\n",
       "</div>"
      ],
      "text/plain": [
       "                                     FormalEducation        Salary\n",
       "0                                  Bachelor's degree  56914.358553\n",
       "1                                    Doctoral degree  78527.933053\n",
       "2             I never completed any formal education  44430.660621\n",
       "3                             I prefer not to answer  38284.836141\n",
       "4                                    Master's degree  58250.838766\n",
       "5                          Primary/elementary school  62677.337358\n",
       "6                                Professional degree  39503.658864\n",
       "7                                   Secondary school  40395.148419\n",
       "8  Some college/university study without earning ...  55912.810459"
      ]
     },
     "execution_count": 12,
     "metadata": {},
     "output_type": "execute_result"
    }
   ],
   "source": [
    "R_1"
   ]
  },
  {
   "cell_type": "code",
   "execution_count": 11,
   "metadata": {},
   "outputs": [
    {
     "data": {
      "image/png": "[encoded data removed]",
      "text/plain": [
       "<Figure size 432x288 with 1 Axes>"
      ]
     },
     "metadata": {
      "needs_background": "light"
     },
     "output_type": "display_data"
    }
   ],
   "source": [
    "R_1.plot.barh(x='FormalEducation', y='Salary', rot=0)\n",
    "plt.title(\"Education versus Salary Correlation?\");"
   ]
  },
  {
   "cell_type": "markdown",
   "metadata": {},
   "source": [
    "It is very obevious that developers with Higher fornaml educational degrees ( Doctoral Degrees ) earns the highest with Salary approximately USD 79K followed by Primary/Elementary School graduates at USD 63K Also that university study with or without Bachelor's degree earns almost the same showing that learning isn't always about formal degrees as it is about understanding dedication and hard work "
   ]
  },
  {
   "cell_type": "markdown",
   "metadata": {},
   "source": [
    "# 2- is there a direct correlation between Earnings and employment status ( full time / part time?"
   ]
  },
  {
   "cell_type": "markdown",
   "metadata": {},
   "source": [
    "for the above question we will use salary colomn and employment status colomns to get a better understanding for this question"
   ]
  },
  {
   "cell_type": "code",
   "execution_count": 22,
   "metadata": {},
   "outputs": [
    {
     "name": "stdout",
     "output_type": "stream",
     "text": [
      "Which of the following best describes your current employment status?\n",
      "What is your current annual base salary, before taxes, and excluding bonuses, grants, or other compensation?\n"
     ]
    }
   ],
   "source": [
    "# getting description of used colomns for better Data understanding\n",
    "print(get_description('EmploymentStatus'))\n",
    "print(get_description('Salary'))"
   ]
  },
  {
   "cell_type": "code",
   "execution_count": 25,
   "metadata": {},
   "outputs": [
    {
     "data": {
      "text/html": [
       "<div>\n",
       "<style scoped>\n",
       "    .dataframe tbody tr th:only-of-type {\n",
       "        vertical-align: middle;\n",
       "    }\n",
       "\n",
       "    .dataframe tbody tr th {\n",
       "        vertical-align: top;\n",
       "    }\n",
       "\n",
       "    .dataframe thead th {\n",
       "        text-align: right;\n",
       "    }\n",
       "</style>\n",
       "<table border=\"1\" class=\"dataframe\">\n",
       "  <thead>\n",
       "    <tr style=\"text-align: right;\">\n",
       "      <th></th>\n",
       "      <th>EmploymentStatus</th>\n",
       "      <th>Salary</th>\n",
       "    </tr>\n",
       "  </thead>\n",
       "  <tbody>\n",
       "    <tr>\n",
       "      <th>0</th>\n",
       "      <td>Employed full-time</td>\n",
       "      <td>57353.913736</td>\n",
       "    </tr>\n",
       "    <tr>\n",
       "      <th>1</th>\n",
       "      <td>Employed part-time</td>\n",
       "      <td>26916.356606</td>\n",
       "    </tr>\n",
       "    <tr>\n",
       "      <th>2</th>\n",
       "      <td>I prefer not to say</td>\n",
       "      <td>NaN</td>\n",
       "    </tr>\n",
       "    <tr>\n",
       "      <th>3</th>\n",
       "      <td>Independent contractor, freelancer, or self-em...</td>\n",
       "      <td>NaN</td>\n",
       "    </tr>\n",
       "    <tr>\n",
       "      <th>4</th>\n",
       "      <td>Not employed, and not looking for work</td>\n",
       "      <td>NaN</td>\n",
       "    </tr>\n",
       "    <tr>\n",
       "      <th>5</th>\n",
       "      <td>Not employed, but looking for work</td>\n",
       "      <td>NaN</td>\n",
       "    </tr>\n",
       "    <tr>\n",
       "      <th>6</th>\n",
       "      <td>Retired</td>\n",
       "      <td>NaN</td>\n",
       "    </tr>\n",
       "  </tbody>\n",
       "</table>\n",
       "</div>"
      ],
      "text/plain": [
       "                                    EmploymentStatus        Salary\n",
       "0                                 Employed full-time  57353.913736\n",
       "1                                 Employed part-time  26916.356606\n",
       "2                                I prefer not to say           NaN\n",
       "3  Independent contractor, freelancer, or self-em...           NaN\n",
       "4             Not employed, and not looking for work           NaN\n",
       "5                 Not employed, but looking for work           NaN\n",
       "6                                            Retired           NaN"
      ]
     },
     "execution_count": 25,
     "metadata": {},
     "output_type": "execute_result"
    }
   ],
   "source": [
    "# Grouping our Data and placing it in a new data set \n",
    "S_2 = grouping_function(question_2, 'EmploymentStatus')\n",
    "R_2 = S_2[['EmploymentStatus', 'Salary']]\n",
    "R_2"
   ]
  },
  {
   "cell_type": "code",
   "execution_count": 26,
   "metadata": {},
   "outputs": [
    {
     "data": {
      "image/png": "[encoded data removed]",
      "text/plain": [
       "<Figure size 432x288 with 1 Axes>"
      ]
     },
     "metadata": {
      "needs_background": "light"
     },
     "output_type": "display_data"
    }
   ],
   "source": [
    "R_2.plot.barh(x='EmploymentStatus', y='Salary', rot=0)\n",
    "plt.title(\"Employment Type versus Salary Correlation?\");"
   ]
  },
  {
   "cell_type": "markdown",
   "metadata": {},
   "source": [
    "it may seem that there is a direct relation between employment type and Earnings but taking in consideration that many of people who participated in the survey such as freelancer and retired ones don't have there salary so the results of the above question are biased and will be ignored in the Blog Post  "
   ]
  },
  {
   "cell_type": "markdown",
   "metadata": {},
   "source": [
    "# 3- relation between Salary and years od experience"
   ]
  },
  {
   "cell_type": "code",
   "execution_count": 27,
   "metadata": {},
   "outputs": [
    {
     "name": "stdout",
     "output_type": "stream",
     "text": [
      "How long has it been since you first learned how to program?\n",
      "What is your current annual base salary, before taxes, and excluding bonuses, grants, or other compensation?\n"
     ]
    }
   ],
   "source": [
    "# getting description of used colomns for better Data understanding which are Salary and YerasProgram\n",
    "print(get_description('YearsProgram'))\n",
    "print(get_description('Salary'))"
   ]
  },
  {
   "cell_type": "code",
   "execution_count": 29,
   "metadata": {},
   "outputs": [
    {
     "data": {
      "text/html": [
       "<div>\n",
       "<style scoped>\n",
       "    .dataframe tbody tr th:only-of-type {\n",
       "        vertical-align: middle;\n",
       "    }\n",
       "\n",
       "    .dataframe tbody tr th {\n",
       "        vertical-align: top;\n",
       "    }\n",
       "\n",
       "    .dataframe thead th {\n",
       "        text-align: right;\n",
       "    }\n",
       "</style>\n",
       "<table border=\"1\" class=\"dataframe\">\n",
       "  <thead>\n",
       "    <tr style=\"text-align: right;\">\n",
       "      <th></th>\n",
       "      <th>YearsProgram</th>\n",
       "      <th>Salary</th>\n",
       "    </tr>\n",
       "  </thead>\n",
       "  <tbody>\n",
       "    <tr>\n",
       "      <th>0</th>\n",
       "      <td>1 to 2 years</td>\n",
       "      <td>33952.955892</td>\n",
       "    </tr>\n",
       "    <tr>\n",
       "      <th>1</th>\n",
       "      <td>10 to 11 years</td>\n",
       "      <td>48056.752718</td>\n",
       "    </tr>\n",
       "    <tr>\n",
       "      <th>2</th>\n",
       "      <td>11 to 12 years</td>\n",
       "      <td>54866.916054</td>\n",
       "    </tr>\n",
       "    <tr>\n",
       "      <th>3</th>\n",
       "      <td>12 to 13 years</td>\n",
       "      <td>55753.347727</td>\n",
       "    </tr>\n",
       "    <tr>\n",
       "      <th>4</th>\n",
       "      <td>13 to 14 years</td>\n",
       "      <td>57149.324679</td>\n",
       "    </tr>\n",
       "    <tr>\n",
       "      <th>5</th>\n",
       "      <td>14 to 15 years</td>\n",
       "      <td>63487.522661</td>\n",
       "    </tr>\n",
       "    <tr>\n",
       "      <th>6</th>\n",
       "      <td>15 to 16 years</td>\n",
       "      <td>62791.031631</td>\n",
       "    </tr>\n",
       "    <tr>\n",
       "      <th>7</th>\n",
       "      <td>16 to 17 years</td>\n",
       "      <td>63898.935646</td>\n",
       "    </tr>\n",
       "    <tr>\n",
       "      <th>8</th>\n",
       "      <td>17 to 18 years</td>\n",
       "      <td>73085.731295</td>\n",
       "    </tr>\n",
       "    <tr>\n",
       "      <th>9</th>\n",
       "      <td>18 to 19 years</td>\n",
       "      <td>71599.061950</td>\n",
       "    </tr>\n",
       "    <tr>\n",
       "      <th>10</th>\n",
       "      <td>19 to 20 years</td>\n",
       "      <td>73926.990203</td>\n",
       "    </tr>\n",
       "    <tr>\n",
       "      <th>11</th>\n",
       "      <td>2 to 3 years</td>\n",
       "      <td>31997.480185</td>\n",
       "    </tr>\n",
       "    <tr>\n",
       "      <th>12</th>\n",
       "      <td>20 or more years</td>\n",
       "      <td>84564.967771</td>\n",
       "    </tr>\n",
       "    <tr>\n",
       "      <th>13</th>\n",
       "      <td>3 to 4 years</td>\n",
       "      <td>37686.091623</td>\n",
       "    </tr>\n",
       "    <tr>\n",
       "      <th>14</th>\n",
       "      <td>4 to 5 years</td>\n",
       "      <td>37220.203859</td>\n",
       "    </tr>\n",
       "    <tr>\n",
       "      <th>15</th>\n",
       "      <td>5 to 6 years</td>\n",
       "      <td>39585.967627</td>\n",
       "    </tr>\n",
       "    <tr>\n",
       "      <th>16</th>\n",
       "      <td>6 to 7 years</td>\n",
       "      <td>41112.825421</td>\n",
       "    </tr>\n",
       "    <tr>\n",
       "      <th>17</th>\n",
       "      <td>7 to 8 years</td>\n",
       "      <td>42798.492890</td>\n",
       "    </tr>\n",
       "    <tr>\n",
       "      <th>18</th>\n",
       "      <td>8 to 9 years</td>\n",
       "      <td>45788.562715</td>\n",
       "    </tr>\n",
       "    <tr>\n",
       "      <th>19</th>\n",
       "      <td>9 to 10 years</td>\n",
       "      <td>48603.051609</td>\n",
       "    </tr>\n",
       "    <tr>\n",
       "      <th>20</th>\n",
       "      <td>Less than a year</td>\n",
       "      <td>24673.256855</td>\n",
       "    </tr>\n",
       "  </tbody>\n",
       "</table>\n",
       "</div>"
      ],
      "text/plain": [
       "        YearsProgram        Salary\n",
       "0       1 to 2 years  33952.955892\n",
       "1     10 to 11 years  48056.752718\n",
       "2     11 to 12 years  54866.916054\n",
       "3     12 to 13 years  55753.347727\n",
       "4     13 to 14 years  57149.324679\n",
       "5     14 to 15 years  63487.522661\n",
       "6     15 to 16 years  62791.031631\n",
       "7     16 to 17 years  63898.935646\n",
       "8     17 to 18 years  73085.731295\n",
       "9     18 to 19 years  71599.061950\n",
       "10    19 to 20 years  73926.990203\n",
       "11      2 to 3 years  31997.480185\n",
       "12  20 or more years  84564.967771\n",
       "13      3 to 4 years  37686.091623\n",
       "14      4 to 5 years  37220.203859\n",
       "15      5 to 6 years  39585.967627\n",
       "16      6 to 7 years  41112.825421\n",
       "17      7 to 8 years  42798.492890\n",
       "18      8 to 9 years  45788.562715\n",
       "19     9 to 10 years  48603.051609\n",
       "20  Less than a year  24673.256855"
      ]
     },
     "execution_count": 29,
     "metadata": {},
     "output_type": "execute_result"
    }
   ],
   "source": [
    "# Grouping our Data and placing it in a new data set \n",
    "S_3 = grouping_function(question_3, 'YearsProgram')\n",
    "R_3 = S_3[['YearsProgram', 'Salary']]\n",
    "R_3"
   ]
  },
  {
   "cell_type": "code",
   "execution_count": 31,
   "metadata": {},
   "outputs": [
    {
     "data": {
      "image/png": "[encoded data removed]",
      "text/plain": [
       "<Figure size 432x288 with 1 Axes>"
      ]
     },
     "metadata": {
      "needs_background": "light"
     },
     "output_type": "display_data"
    }
   ],
   "source": [
    "R_3.plot.barh(x='YearsProgram', y='Salary', rot=0)\n",
    "plt.title(\"relation between Salary and years of experience ?\");"
   ]
  },
  {
   "cell_type": "markdown",
   "metadata": {},
   "source": [
    "# 4- Upgrade your skills to Earn more"
   ]
  },
  {
   "cell_type": "markdown",
   "metadata": {},
   "source": [
    "People always assume that if you have mastered more than one languages, you will have some benefits in terms of Earnings and Income . Let's figure out if they are right. Let's work with HaveWorkedLanguage and Salary column:"
   ]
  },
  {
   "cell_type": "code",
   "execution_count": 36,
   "metadata": {},
   "outputs": [],
   "source": [
    "def lang_count(data):\n",
    "    \"\"\"     \n",
    "    INPUT: \n",
    "            data (object): 2-D Dataframe\n",
    "  \n",
    "    Returns: \n",
    "            GroupBy object with mean\n",
    "    \"\"\"\n",
    "    # Counting number of languages\n",
    "    data['LanguageCount'] = data['HaveWorkedLanguage'].str.count(';') + 1\n",
    "\n",
    "    # Dropping NaN in LanguageCount\n",
    "    data.dropna(subset=['LanguageCount'], inplace=True)\n",
    "    data.reset_index(drop=True, inplace=True)\n",
    "    print('Responses:', data['Salary'].shape[0])\n",
    "\n",
    "    # Grouping Salary according to number of languages\n",
    "    grouped_salary = grouping_function(data, 'LanguageCount')\n",
    "\n",
    "    # Dropping NaN in Salary\n",
    "    grouped_salary.dropna(subset=['Salary'], inplace=True)\n",
    "    grouped_salary.reset_index(drop=True, inplace=True)\n",
    "    \n",
    "    # Fitlering Outliers\n",
    "    salary_quantile = grouped_salary[\"Salary\"].quantile(0.1)\n",
    "    \n",
    "    # Considering the first 10 rows\n",
    "    grouped_salary = grouped_salary[grouped_salary[\"Salary\"] > salary_quantile].head(10)\n",
    "    return grouped_salary"
   ]
  },
  {
   "cell_type": "code",
   "execution_count": 37,
   "metadata": {},
   "outputs": [
    {
     "name": "stdout",
     "output_type": "stream",
     "text": [
      "Responses: 36625\n"
     ]
    },
    {
     "data": {
      "text/html": [
       "<div>\n",
       "<style scoped>\n",
       "    .dataframe tbody tr th:only-of-type {\n",
       "        vertical-align: middle;\n",
       "    }\n",
       "\n",
       "    .dataframe tbody tr th {\n",
       "        vertical-align: top;\n",
       "    }\n",
       "\n",
       "    .dataframe thead th {\n",
       "        text-align: right;\n",
       "    }\n",
       "</style>\n",
       "<table border=\"1\" class=\"dataframe\">\n",
       "  <thead>\n",
       "    <tr style=\"text-align: right;\">\n",
       "      <th></th>\n",
       "      <th>LanguageCount</th>\n",
       "      <th>Salary</th>\n",
       "    </tr>\n",
       "  </thead>\n",
       "  <tbody>\n",
       "    <tr>\n",
       "      <th>0</th>\n",
       "      <td>1</td>\n",
       "      <td>53202.325035</td>\n",
       "    </tr>\n",
       "    <tr>\n",
       "      <th>1</th>\n",
       "      <td>2</td>\n",
       "      <td>57888.283987</td>\n",
       "    </tr>\n",
       "    <tr>\n",
       "      <th>2</th>\n",
       "      <td>3</td>\n",
       "      <td>55213.482484</td>\n",
       "    </tr>\n",
       "    <tr>\n",
       "      <th>3</th>\n",
       "      <td>4</td>\n",
       "      <td>58317.869749</td>\n",
       "    </tr>\n",
       "    <tr>\n",
       "      <th>4</th>\n",
       "      <td>5</td>\n",
       "      <td>59163.122613</td>\n",
       "    </tr>\n",
       "    <tr>\n",
       "      <th>5</th>\n",
       "      <td>6</td>\n",
       "      <td>58405.710495</td>\n",
       "    </tr>\n",
       "    <tr>\n",
       "      <th>6</th>\n",
       "      <td>7</td>\n",
       "      <td>58763.422530</td>\n",
       "    </tr>\n",
       "    <tr>\n",
       "      <th>7</th>\n",
       "      <td>8</td>\n",
       "      <td>57447.874539</td>\n",
       "    </tr>\n",
       "    <tr>\n",
       "      <th>8</th>\n",
       "      <td>9</td>\n",
       "      <td>53301.021353</td>\n",
       "    </tr>\n",
       "    <tr>\n",
       "      <th>9</th>\n",
       "      <td>10</td>\n",
       "      <td>58741.498670</td>\n",
       "    </tr>\n",
       "  </tbody>\n",
       "</table>\n",
       "</div>"
      ],
      "text/plain": [
       "   LanguageCount        Salary\n",
       "0              1  53202.325035\n",
       "1              2  57888.283987\n",
       "2              3  55213.482484\n",
       "3              4  58317.869749\n",
       "4              5  59163.122613\n",
       "5              6  58405.710495\n",
       "6              7  58763.422530\n",
       "7              8  57447.874539\n",
       "8              9  53301.021353\n",
       "9             10  58741.498670"
      ]
     },
     "execution_count": 37,
     "metadata": {},
     "output_type": "execute_result"
    }
   ],
   "source": [
    "\n",
    "result_4 = lang_count(question_4)\n",
    "result_4[['LanguageCount', 'Salary']]"
   ]
  },
  {
   "cell_type": "code",
   "execution_count": 38,
   "metadata": {},
   "outputs": [
    {
     "data": {
      "image/png": "[encoded data removed]",
      "text/plain": [
       "<Figure size 432x288 with 1 Axes>"
      ]
     },
     "metadata": {
      "needs_background": "light"
     },
     "output_type": "display_data"
    }
   ],
   "source": [
    "# Visualisation for objective 4\n",
    "ax4 = plot_graph(result_4, 'LanguageCount', 'Salary')"
   ]
  },
  {
   "cell_type": "markdown",
   "metadata": {},
   "source": [
    "It doesn't make much difference at all. A developer specialized in one programming language get a normal pay of USD 53,202 whereas the one who is skilled in 9 different languages get a normal compensation of USD 53,301 (0.18 percent more)"
   ]
  },
  {
   "cell_type": "code",
   "execution_count": null,
   "metadata": {},
   "outputs": [],
   "source": []
  }
 ],
 "metadata": {
  "kernelspec": {
   "display_name": "Python 3",
   "language": "python",
   "name": "python3"
  },
  "language_info": {
   "codemirror_mode": {
    "name": "ipython",
    "version": 3
   },
   "file_extension": ".py",
   "mimetype": "text/x-python",
   "name": "python",
   "nbconvert_exporter": "python",
   "pygments_lexer": "ipython3",
   "version": "3.7.4"
  }
 },
 "nbformat": 4,
 "nbformat_minor": 2
}
